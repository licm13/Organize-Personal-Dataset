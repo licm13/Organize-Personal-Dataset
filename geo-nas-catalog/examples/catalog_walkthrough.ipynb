{
 "cells": [
  {
   "cell_type": "markdown",
   "metadata": {},
   "source": [
    "# Catalog Walkthrough\n",
    "Demonstrates how to scan and summarise a directory."
   ]
  },
  {
   "cell_type": "code",
   "execution_count": null,
   "metadata": {},
   "outputs": [],
   "source": [
    "from pathlib import Path\n",
    "import sys\n",
    "PROJECT_ROOT = Path('..').resolve()\n",
    "SRC_ROOT = PROJECT_ROOT / 'src'\n",
    "if str(SRC_ROOT) not in sys.path:\n",
    "    sys.path.insert(0, str(SRC_ROOT))\n",
    "from catalog import CatalogScanner, ScanConfig\n",
    "from catalog.metadata import CatalogSummary\n"
   ]
  },
  {
   "cell_type": "code",
   "execution_count": null,
   "metadata": {},
   "outputs": [],
   "source": [
    "scanner = CatalogScanner()\n",
    "config = ScanConfig(root=PROJECT_ROOT)\n",
    "entries = list(scanner.scan(config))\n",
    "CatalogSummary.from_entries(entries)"
   ]
  }
 ],
 "metadata": {
  "kernelspec": {
   "display_name": "Python 3",
   "language": "python",
   "name": "python3"
  },
  "language_info": {
   "name": "python",
   "version": "3.10"
  }
 },
 "nbformat": 4,
 "nbformat_minor": 5
}
